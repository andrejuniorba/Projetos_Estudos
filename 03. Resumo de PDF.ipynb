{
 "cells": [
  {
   "cell_type": "code",
   "execution_count": 54,
   "id": "71769c55",
   "metadata": {},
   "outputs": [],
   "source": [
    "#Instalação da biblioteca Python para ler o PDF\n",
    "!pip install pypdf2 -q"
   ]
  },
  {
   "cell_type": "code",
   "execution_count": 32,
   "id": "54a502b1",
   "metadata": {},
   "outputs": [],
   "source": [
    "import PyPDF2"
   ]
  },
  {
   "cell_type": "code",
   "execution_count": 33,
   "id": "8a477a22",
   "metadata": {},
   "outputs": [],
   "source": [
    "#URL do local onde está o livro\n",
    "pdf_livro = 'texto.pdf'"
   ]
  },
  {
   "cell_type": "code",
   "execution_count": 34,
   "id": "5fa32604",
   "metadata": {},
   "outputs": [],
   "source": [
    "#lendo o local indicado\n",
    "livro = open(pdf_livro, 'rb')#Lendo o livro\n",
    "pdf_leitor = PyPDF2.PdfFileReader(livro)"
   ]
  },
  {
   "cell_type": "code",
   "execution_count": 35,
   "id": "05c22dad",
   "metadata": {},
   "outputs": [],
   "source": [
    " #variável que vai fguardar todo o texto do livro\n",
    "texto = ''"
   ]
  },
  {
   "cell_type": "code",
   "execution_count": 37,
   "id": "ccd36896",
   "metadata": {},
   "outputs": [],
   "source": [
    "#Loop que ler as páginas para resumo\n",
    "for num in range(0,1):\n",
    "    pagina = pdf_leitor.getPage(num)\n",
    "    texto = texto + pagina.extractText()"
   ]
  },
  {
   "cell_type": "code",
   "execution_count": 38,
   "id": "cad8f476",
   "metadata": {},
   "outputs": [
    {
     "data": {
      "text/plain": [
       "'Verdades da Profissão de Professor\\nNinguém nega o valor da educação e que um bom professor é imprescindível. Mas, ainda que\\ndesejem bons professores para seus filhos, poucos pais desejam que seus filhos sejam professores.\\nIsso nos mostra o reconhecimento que o trabalho de educar é duro, difícil e necessário, mas que\\npermitimos que esses profissionais continuem sendo desvalorizados. Apesar de mal remunerados,\\ncom baixo prestígio social e responsabilizados pelo fracasso da educação, grande parte resiste e\\ncontinua apaixonada pelo seu trabalho.\\nA data é um convite para que todos, pais, alunos, sociedade, repensemos nossos papéis e nossas\\natitudes,   pois   com   elas   demonstramos   o   compromisso   com   a   educação   que   queremos.   Aos\\nprofessores, fica o convite para que não descuidem de sua missão de educar, nem desanimem diante\\ndos desafios, nem deixem de educar as pessoas para serem “águias” e não apenas “galinhas”. Pois,\\nse a educação sozinha não transforma a sociedade, sem ela, tampouco, a sociedade muda.'"
      ]
     },
     "execution_count": 38,
     "metadata": {},
     "output_type": "execute_result"
    }
   ],
   "source": [
    "texto"
   ]
  },
  {
   "cell_type": "markdown",
   "id": "4be72044",
   "metadata": {},
   "source": [
    "Resumindo"
   ]
  },
  {
   "cell_type": "code",
   "execution_count": 41,
   "id": "2d9c41f5",
   "metadata": {},
   "outputs": [],
   "source": [
    "#Instalação do pacote \n",
    "!pip install nltk -q"
   ]
  },
  {
   "cell_type": "code",
   "execution_count": 40,
   "id": "e5bf69ee",
   "metadata": {},
   "outputs": [
    {
     "name": "stdout",
     "output_type": "stream",
     "text": [
      "/home/oem/anaconda3/lib/python3.9/runpy.py:127: RuntimeWarning: 'nltk.downloader' found in sys.modules after import of package 'nltk', but prior to execution of 'nltk.downloader'; this may result in unpredictable behaviour\r\n",
      "  warn(RuntimeWarning(msg))\r\n"
     ]
    }
   ],
   "source": [
    "#Intalação dos dicionários de palavras(corpus)\n",
    "!python -m nltk.downloader all -q"
   ]
  },
  {
   "cell_type": "code",
   "execution_count": 42,
   "id": "91480cfd",
   "metadata": {},
   "outputs": [],
   "source": [
    "#dividindo o nosso texto em sentenças e depois em palavras\n",
    "from nltk.tokenize import word_tokenize\n",
    "from nltk.tokenize import sent_tokenize\n",
    "\n",
    "sentencas = sent_tokenize(texto)\n",
    "palavras = word_tokenize(texto.lower())"
   ]
  },
  {
   "cell_type": "code",
   "execution_count": 43,
   "id": "e0b98461",
   "metadata": {},
   "outputs": [],
   "source": [
    "#Retirando as stopwords\n",
    "from nltk.corpus import stopwords\n",
    "from string import punctuation\n",
    "\n",
    "stopwords = set(stopwords.words('portuguese') + list(punctuation))\n",
    "palavras_sem_stopwords = [palavra for palavra in palavras if palavra not in stopwords]"
   ]
  },
  {
   "cell_type": "code",
   "execution_count": 44,
   "id": "4956b66f",
   "metadata": {},
   "outputs": [],
   "source": [
    "# criando a distribuição de frequência\n",
    "from nltk.probability import FreqDist\n",
    "frequencia = FreqDist(palavras_sem_stopwords)"
   ]
  },
  {
   "cell_type": "code",
   "execution_count": 45,
   "id": "145944fd",
   "metadata": {},
   "outputs": [],
   "source": [
    "# Separando as sentenças mais importantes\n",
    "from collections import defaultdict\n",
    "sentencas_importantes = defaultdict(int)"
   ]
  },
  {
   "cell_type": "code",
   "execution_count": 46,
   "id": "9370294c",
   "metadata": {},
   "outputs": [],
   "source": [
    "#Loop para percorrer todas as sentenças e coletar todas as estatísticas\n",
    "for i, sentenca in enumerate(sentencas):\n",
    "    for palavra in word_tokenize(sentenca.lower()):\n",
    "        if palavra in frequencia:\n",
    "            sentencas_importantes[i] += frequencia[palavra]"
   ]
  },
  {
   "cell_type": "code",
   "execution_count": 47,
   "id": "8d7cb966",
   "metadata": {},
   "outputs": [],
   "source": [
    "#“n” sentenças mais importantes\n",
    "from heapq import nlargest\n",
    "idx_sentencas_importantes = nlargest(4, sentencas_importantes, sentencas_importantes.get)"
   ]
  },
  {
   "cell_type": "code",
   "execution_count": 48,
   "id": "30822338",
   "metadata": {},
   "outputs": [],
   "source": [
    "# Temos o resumo!\n",
    "resumo = ''\n",
    "for i in sorted(idx_sentencas_importantes):\n",
    "    resumo = resumo + sentencas[i]"
   ]
  },
  {
   "cell_type": "code",
   "execution_count": 49,
   "id": "e139b334",
   "metadata": {},
   "outputs": [
    {
     "data": {
      "text/plain": [
       "'Mas, ainda que\\ndesejem bons professores para seus filhos, poucos pais desejam que seus filhos sejam professores.Apesar de mal remunerados,\\ncom baixo prestígio social e responsabilizados pelo fracasso da educação, grande parte resiste e\\ncontinua apaixonada pelo seu trabalho.A data é um convite para que todos, pais, alunos, sociedade, repensemos nossos papéis e nossas\\natitudes,   pois   com   elas   demonstramos   o   compromisso   com   a   educação   que   queremos.Aos\\nprofessores, fica o convite para que não descuidem de sua missão de educar, nem desanimem diante\\ndos desafios, nem deixem de educar as pessoas para serem “águias” e não apenas “galinhas”.'"
      ]
     },
     "execution_count": 49,
     "metadata": {},
     "output_type": "execute_result"
    }
   ],
   "source": [
    "resumo"
   ]
  },
  {
   "cell_type": "markdown",
   "id": "fced20b6",
   "metadata": {},
   "source": [
    "Texto em áudio"
   ]
  },
  {
   "cell_type": "code",
   "execution_count": 50,
   "id": "64703312",
   "metadata": {},
   "outputs": [],
   "source": [
    "!pip install gTTS -q"
   ]
  },
  {
   "cell_type": "code",
   "execution_count": 51,
   "id": "fa239920",
   "metadata": {},
   "outputs": [],
   "source": [
    "from gtts import gTTS\n",
    "import os"
   ]
  },
  {
   "cell_type": "code",
   "execution_count": 52,
   "id": "5d4a9dcd",
   "metadata": {},
   "outputs": [],
   "source": [
    "tts = gTTS(resumo, lang='pt-br')"
   ]
  },
  {
   "cell_type": "code",
   "execution_count": 53,
   "id": "ae5100ba",
   "metadata": {},
   "outputs": [],
   "source": [
    "tts.save('resumo.mp3')"
   ]
  },
  {
   "cell_type": "code",
   "execution_count": null,
   "id": "c2f7be34",
   "metadata": {},
   "outputs": [],
   "source": []
  }
 ],
 "metadata": {
  "kernelspec": {
   "display_name": "Python 3 (ipykernel)",
   "language": "python",
   "name": "python3"
  },
  "language_info": {
   "codemirror_mode": {
    "name": "ipython",
    "version": 3
   },
   "file_extension": ".py",
   "mimetype": "text/x-python",
   "name": "python",
   "nbconvert_exporter": "python",
   "pygments_lexer": "ipython3",
   "version": "3.9.12"
  }
 },
 "nbformat": 4,
 "nbformat_minor": 5
}

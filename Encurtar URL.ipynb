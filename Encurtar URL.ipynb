{
 "cells": [
  {
   "cell_type": "markdown",
   "id": "bd5ca8bb",
   "metadata": {},
   "source": [
    "## Encurtar URL "
   ]
  },
  {
   "cell_type": "code",
   "execution_count": 3,
   "id": "a2a12da2",
   "metadata": {},
   "outputs": [
    {
     "name": "stdout",
     "output_type": "stream",
     "text": [
      "Note: you may need to restart the kernel to use updated packages.\n"
     ]
    }
   ],
   "source": [
    "pip install pyshorteners -q"
   ]
  },
  {
   "cell_type": "code",
   "execution_count": 4,
   "id": "74946ac4",
   "metadata": {},
   "outputs": [],
   "source": [
    "import pyshorteners"
   ]
  },
  {
   "cell_type": "code",
   "execution_count": 6,
   "id": "0f6a762a",
   "metadata": {},
   "outputs": [
    {
     "name": "stdout",
     "output_type": "stream",
     "text": [
      "Digite a url: https://www.linkedin.com/in/andrejuniorba/\n",
      "URL encurtada: https://tinyurl.com/2qkmgc3b\n"
     ]
    }
   ],
   "source": [
    "url = input('Digite a url: ')\n",
    "\n",
    "a = pyshorteners.Shortener()\n",
    "\n",
    "encurtador = a.tinyurl.short(url)\n",
    "\n",
    "print(f'URL encurtada: {encurtador}')"
   ]
  },
  {
   "cell_type": "code",
   "execution_count": null,
   "id": "19f1bf70",
   "metadata": {},
   "outputs": [],
   "source": []
  }
 ],
 "metadata": {
  "kernelspec": {
   "display_name": "Python 3 (ipykernel)",
   "language": "python",
   "name": "python3"
  },
  "language_info": {
   "codemirror_mode": {
    "name": "ipython",
    "version": 3
   },
   "file_extension": ".py",
   "mimetype": "text/x-python",
   "name": "python",
   "nbconvert_exporter": "python",
   "pygments_lexer": "ipython3",
   "version": "3.9.12"
  }
 },
 "nbformat": 4,
 "nbformat_minor": 5
}

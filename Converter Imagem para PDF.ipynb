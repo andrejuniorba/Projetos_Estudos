{
 "cells": [
  {
   "cell_type": "code",
   "execution_count": 1,
   "id": "2148c1f1",
   "metadata": {
    "scrolled": true
   },
   "outputs": [
    {
     "name": "stdout",
     "output_type": "stream",
     "text": [
      "Collecting img2pdf\n",
      "  Downloading img2pdf-0.4.4.tar.gz (97 kB)\n",
      "Requirement already satisfied: Pillow in c:\\users\\andrehome\\anaconda3\\lib\\site-packages (from img2pdf) (9.0.1)\n",
      "Collecting pikepdf\n",
      "  Downloading pikepdf-6.2.1-cp39-cp39-win_amd64.whl (3.2 MB)\n",
      "Collecting deprecation\n",
      "  Downloading deprecation-2.1.0-py2.py3-none-any.whl (11 kB)\n",
      "Requirement already satisfied: packaging in c:\\users\\andrehome\\anaconda3\\lib\\site-packages (from pikepdf->img2pdf) (21.3)\n",
      "Requirement already satisfied: lxml>=4.8 in c:\\users\\andrehome\\anaconda3\\lib\\site-packages (from pikepdf->img2pdf) (4.8.0)\n",
      "Requirement already satisfied: pyparsing!=3.0.5,>=2.0.2 in c:\\users\\andrehome\\anaconda3\\lib\\site-packages (from packaging->pikepdf->img2pdf) (3.0.4)\n",
      "Building wheels for collected packages: img2pdf\n",
      "  Building wheel for img2pdf (setup.py): started\n",
      "  Building wheel for img2pdf (setup.py): finished with status 'done'\n",
      "  Created wheel for img2pdf: filename=img2pdf-0.4.4-py3-none-any.whl size=44879 sha256=cd18696cf1afa4b46d24ffda6b2aecbf656f37ebb8a7ca0c11c2c1736099d1b9\n",
      "  Stored in directory: c:\\users\\andrehome\\appdata\\local\\pip\\cache\\wheels\\9e\\70\\4e\\193fef3784ff9e9e7c8a3a54e9b580441a4137f3fa4bbb76cd\n",
      "Successfully built img2pdf\n",
      "Installing collected packages: deprecation, pikepdf, img2pdf\n",
      "Successfully installed deprecation-2.1.0 img2pdf-0.4.4 pikepdf-6.2.1\n",
      "Note: you may need to restart the kernel to use updated packages.\n"
     ]
    }
   ],
   "source": [
    "pip install img2pdf"
   ]
  },
  {
   "cell_type": "code",
   "execution_count": 29,
   "id": "36f19b7c",
   "metadata": {},
   "outputs": [],
   "source": [
    "import img2pdf \n",
    "from PIL import Image \n",
    "import os"
   ]
  },
  {
   "cell_type": "code",
   "execution_count": 30,
   "id": "07be1f97",
   "metadata": {},
   "outputs": [],
   "source": [
    "for arquivo in os.listdir():\n",
    "    if arquivo.split('.')[-1] in ('jpg', 'png'):\n",
    "        nome_arquivo = os.path.basename(arquivo).split('.')[-2]\n",
    "        imagem = Image.open(arquivo)\n",
    "        imagem_conv = imagem.convert('RGB')\n",
    "        imagem_conv.save('{0}.pdf'. format(nome_arquivo))"
   ]
  },
  {
   "cell_type": "code",
   "execution_count": null,
   "id": "22c0413c",
   "metadata": {},
   "outputs": [],
   "source": []
  }
 ],
 "metadata": {
  "kernelspec": {
   "display_name": "Python 3 (ipykernel)",
   "language": "python",
   "name": "python3"
  },
  "language_info": {
   "codemirror_mode": {
    "name": "ipython",
    "version": 3
   },
   "file_extension": ".py",
   "mimetype": "text/x-python",
   "name": "python",
   "nbconvert_exporter": "python",
   "pygments_lexer": "ipython3",
   "version": "3.9.12"
  }
 },
 "nbformat": 4,
 "nbformat_minor": 5
}

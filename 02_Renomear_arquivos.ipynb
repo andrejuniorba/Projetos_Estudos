{
 "cells": [
  {
   "cell_type": "code",
   "execution_count": 35,
   "id": "e05c6b24",
   "metadata": {},
   "outputs": [],
   "source": [
    "import os #caminhar nas pastas e diretórios"
   ]
  },
  {
   "cell_type": "code",
   "execution_count": 36,
   "id": "34e3d29b",
   "metadata": {},
   "outputs": [],
   "source": [
    "#Caminho dos arquivos\n",
    "pasta = os.chdir('/home/oem/Documentos/Machine Learning Specialist - DIO/cat_dog/cachorro')"
   ]
  },
  {
   "cell_type": "code",
   "execution_count": 37,
   "id": "4b43c2d1",
   "metadata": {},
   "outputs": [],
   "source": [
    "#Função para renomear arquivos\n",
    "def renomear_loop():\n",
    "    i = 0\n",
    "    for arquivo in os.listdir(pasta):\n",
    "        novo_nome_arquivo = 'cachorro{}.jpg'.format(i)\n",
    "        os.rename(arquivo, novo_nome_arquivo)\n",
    "        i += 1"
   ]
  },
  {
   "cell_type": "code",
   "execution_count": 38,
   "id": "2dc6933e",
   "metadata": {},
   "outputs": [],
   "source": [
    "renomear_loop()"
   ]
  },
  {
   "cell_type": "code",
   "execution_count": null,
   "id": "9d2eadf5",
   "metadata": {},
   "outputs": [],
   "source": []
  }
 ],
 "metadata": {
  "kernelspec": {
   "display_name": "Python 3 (ipykernel)",
   "language": "python",
   "name": "python3"
  },
  "language_info": {
   "codemirror_mode": {
    "name": "ipython",
    "version": 3
   },
   "file_extension": ".py",
   "mimetype": "text/x-python",
   "name": "python",
   "nbconvert_exporter": "python",
   "pygments_lexer": "ipython3",
   "version": "3.9.12"
  }
 },
 "nbformat": 4,
 "nbformat_minor": 5
}

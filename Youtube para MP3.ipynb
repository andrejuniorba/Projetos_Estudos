{
 "cells": [
  {
   "cell_type": "markdown",
   "id": "2069dfe0",
   "metadata": {},
   "source": [
    "## Baixar vídeo do Youtube no formato MP3\n",
    "\n",
    "**Bibliotecas usadas:** Pytube e Moviepy"
   ]
  },
  {
   "cell_type": "code",
   "execution_count": 1,
   "id": "5c184556",
   "metadata": {},
   "outputs": [
    {
     "name": "stdout",
     "output_type": "stream",
     "text": [
      "Note: you may need to restart the kernel to use updated packages.\n"
     ]
    }
   ],
   "source": [
    "pip install pytube -q"
   ]
  },
  {
   "cell_type": "code",
   "execution_count": 2,
   "id": "702a8300",
   "metadata": {},
   "outputs": [
    {
     "name": "stdout",
     "output_type": "stream",
     "text": [
      "Note: you may need to restart the kernel to use updated packages.\n"
     ]
    }
   ],
   "source": [
    "pip install moviepy -q"
   ]
  },
  {
   "cell_type": "code",
   "execution_count": 3,
   "id": "9f596dfd",
   "metadata": {},
   "outputs": [],
   "source": [
    "from pytube import YouTube\n",
    "import moviepy.editor as mp\n",
    "import re\n",
    "import os"
   ]
  },
  {
   "cell_type": "code",
   "execution_count": 8,
   "id": "8ce3c68c",
   "metadata": {},
   "outputs": [
    {
     "name": "stdout",
     "output_type": "stream",
     "text": [
      "Link: https://www.youtube.com/watch?v=LNng2e3nco0\n",
      "Salvar em: Músicas\n",
      "Fazendo o download do vídeo...\n",
      "Download finalizado!\n",
      "Convertendo o arquivo para MP3...\n",
      "MoviePy - Writing audio in Músicas\\Eleven.mp3\n"
     ]
    },
    {
     "name": "stderr",
     "output_type": "stream",
     "text": [
      "                                                                                                                       "
     ]
    },
    {
     "name": "stdout",
     "output_type": "stream",
     "text": [
      "MoviePy - Done.\n",
      "O MP3 já está disponível!\n"
     ]
    },
    {
     "name": "stderr",
     "output_type": "stream",
     "text": [
      "\r"
     ]
    }
   ],
   "source": [
    "link = input('Link: ')\n",
    "pasta = input('Salvar em: ')\n",
    "\n",
    "yt = YouTube(link)\n",
    "\n",
    "print('Fazendo o download do vídeo...')\n",
    "ys = yt.streams.filter(only_audio=True).first().download(pasta)\n",
    "print('Download finalizado!')\n",
    "\n",
    "print('Convertendo o arquivo para MP3...')\n",
    "\n",
    "for arquivo in os.listdir(pasta):\n",
    "    if re.search('mp4', arquivo):\n",
    "        mp4_pasta = os.path.join(pasta, arquivo)\n",
    "        mp3_pasta = os.path.join(pasta, os.path.splitext(arquivo)[0]+'.mp3')\n",
    "        novo_arquivo = mp.AudioFileClip(mp4_pasta)\n",
    "        novo_arquivo.write_audiofile(mp3_pasta)\n",
    "        os.remove(mp4_pasta)\n",
    "        \n",
    "print('O MP3 já está disponível!')"
   ]
  },
  {
   "cell_type": "code",
   "execution_count": null,
   "id": "bcfcee50",
   "metadata": {},
   "outputs": [],
   "source": []
  }
 ],
 "metadata": {
  "kernelspec": {
   "display_name": "Python 3 (ipykernel)",
   "language": "python",
   "name": "python3"
  },
  "language_info": {
   "codemirror_mode": {
    "name": "ipython",
    "version": 3
   },
   "file_extension": ".py",
   "mimetype": "text/x-python",
   "name": "python",
   "nbconvert_exporter": "python",
   "pygments_lexer": "ipython3",
   "version": "3.9.12"
  }
 },
 "nbformat": 4,
 "nbformat_minor": 5
}

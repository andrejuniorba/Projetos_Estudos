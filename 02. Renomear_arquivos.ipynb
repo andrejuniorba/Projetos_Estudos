{
  "cells": [
    {
      "cell_type": "code",
      "source": [
        "import os\n",
        "\n",
        "#Função para renomear\n",
        "def renomear(diretorio):\n",
        "  cont = 1\n",
        "  for arquivo in os.listdir(diretorio):\n",
        "    pasta = os.path.join(diretorio, arquivo)\n",
        "    novo_nome = f\"imagem {cont}.jpg\"\n",
        "    nova_pasta = os.path.join(diretorio, novo_nome)\n",
        "    os.rename(pasta, nova_pasta)\n",
        "    cont += 1\n",
        "\n",
        "diretorio = r'C:\\Users\\reginaldo\\Desktop\\Casamento'\n",
        "\n",
        "troca_nome = renomear(diretorio)"
      ],
      "metadata": {
        "id": "wFAGha6TjbMr"
      },
      "id": "wFAGha6TjbMr",
      "execution_count": null,
      "outputs": []
    }
  ],
  "metadata": {
    "kernelspec": {
      "display_name": "Python 3 (ipykernel)",
      "language": "python",
      "name": "python3"
    },
    "language_info": {
      "codemirror_mode": {
        "name": "ipython",
        "version": 3
      },
      "file_extension": ".py",
      "mimetype": "text/x-python",
      "name": "python",
      "nbconvert_exporter": "python",
      "pygments_lexer": "ipython3",
      "version": "3.9.12"
    },
    "colab": {
      "provenance": []
    }
  },
  "nbformat": 4,
  "nbformat_minor": 5
}